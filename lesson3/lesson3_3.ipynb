{
 "cells": [
  {
   "cell_type": "markdown",
   "id": "aa12b855",
   "metadata": {},
   "source": [
    "## 📝 curl 轉換成 requests 的說明\n",
    "\n",
    "### 🔄 轉換要點：\n",
    "\n",
    "1. **HTTP 方法**：`curl -d` 表示發送 POST 請求，所以使用 `requests.post()`\n",
    "\n",
    "2. **URL**：直接使用相同的 URL\n",
    "\n",
    "3. **資料格式**：\n",
    "   - `curl -d` 後面的 JSON 資料變成 Python 字典\n",
    "   - 使用 `json=data` 參數自動處理 Content-Type 和 JSON 編碼\n",
    "\n",
    "### 🎯 兩種主要方法：\n",
    "\n",
    "**方法1（推薦）**：使用 `json` 參數\n",
    "```python\n",
    "response = requests.post(url, json=data)\n",
    "```\n",
    "\n",
    "**方法2**：使用 `data` 參數 + 手動 JSON 編碼\n",
    "```python\n",
    "response = requests.post(url, data=json.dumps(data), headers={'Content-Type': 'application/json'})\n",
    "```\n",
    "\n",
    "### ⚠️ 注意事項：\n",
    "- 確保目標伺服器正在運行\n",
    "- 檢查網路連線\n",
    "- 處理可能的錯誤狀況"
   ]
  },
  {
   "cell_type": "code",
   "execution_count": 11,
   "id": "452b6e88",
   "metadata": {},
   "outputs": [
    {
     "name": "stdout",
     "output_type": "stream",
     "text": [
      "請求成功！\n"
     ]
    },
    {
     "data": {
      "text/html": [
       "<p>天空之所以是藍色的，主要是因為一種叫做<strong>瑞利散射（Rayleigh scattering）</strong>現象，以及空氣中的微小氣體。以下是更詳細的解釋：</p>\n",
       "<p><strong>1. 瑞利散射：</strong></p>\n",
       "<ul>\n",
       "<li><strong>太陽光包含所有顏色的光：</strong> 太陽光看起來是白色的，但實際上它是由所有顏色的光混合在一起的。</li>\n",
       "<li><strong>微小氣體存在：</strong> 大氣中充滿了大量的微小氣體，比如氮氣和氧氣。</li>\n",
       "<li><strong>光線被分散：</strong> 當太陽光進入地球的大氣層時，這些微小氣體會對光線進行散射，產生一種稱為“瑞利散射”的現象。</li>\n",
       "<li><strong>波長差異：</strong> 瑞利散射效果對不同波長的光線的影響不同。短波長（藍色和紫色的光）比長波長（紅色和黃色的光）更容易被散射。</li>\n",
       "</ul>\n",
       "<p><strong>2. 藍色光的強大散射：</strong></p>\n",
       "<ul>\n",
       "<li><strong>我們更容易看到藍色：</strong> 由於藍色光的散射強度更高，因此在天空中有更多的藍色光被散射到我們視線中。</li>\n",
       "<li><strong>我們的眼睛對藍色更敏感：</strong> 我們的眼睛對藍色光比其他顏色的光更加敏感，所以我們看到的天空會呈現藍色。</li>\n",
       "</ul>\n",
       "<p><strong>為什麼不是紫色的？</strong></p>\n",
       "<p>雖然紫色的光比藍色更易被散射，但太陽光中的紫光比藍光更微弱，而且地球的大氣層的吸收率更高，所以我們只能看到藍色。</p>\n",
       "<p><strong>結論：</strong></p>\n",
       "<p>天空呈現藍色是因為太陽光進入大氣層時，瑞利散射作用將陽光散射到我們視線中，導致我們看到藍色光最多。</p>\n",
       "<p><strong>簡單來說，就像在一個水面上，微小的水滴會使水面看起來更藍一樣。</strong></p>\n",
       "<p>希望這個解釋對你有所幫助！</p>"
      ],
      "text/plain": [
       "<IPython.core.display.HTML object>"
      ]
     },
     "metadata": {},
     "output_type": "display_data"
    }
   ],
   "source": [
    "import requests\n",
    "import json\n",
    "import markdown\n",
    "from IPython.display import HTML, display\n",
    "\n",
    "url = \"http://localhost:11434/api/generate\"\n",
    "\n",
    "data = {\n",
    "    \"model\": \"gemma3:1b\",\n",
    "    \"prompt\": \"天空為什麼是藍色的?\",\n",
    "    \"stream\": False,\n",
    "}\n",
    "\n",
    "response = requests.post(url, json=data)\n",
    "\n",
    "if response.status_code == 200:\n",
    "    print(\"請求成功！\")\n",
    "    answer = response.json()['response']\n",
    "    #print(f\"AI 回答:{answer}\")\n",
    "    #todo:將回答輸出markdown轉換後的格式\n",
    "    #將回答輸出markdown轉換後的格式\n",
    "    markdown_answer = markdown.markdown(answer)\n",
    "    #print(f\"Markdown 格式：\\n{markdown_answer}\")\n",
    "    # todo:將markdown_answer的html格式顯示於螢幕上\n",
    "    display(HTML(markdown_answer))\n",
    "\n",
    "else:\n",
    "    print(\"請求失敗\")\n",
    "    print(f\"狀態碼:{response.status_code}\")\n",
    "    print(f\"錯誤訊息: {response.text}\")"
   ]
  },
  {
   "cell_type": "code",
   "execution_count": 7,
   "id": "a607a4e8",
   "metadata": {},
   "outputs": [
    {
     "name": "stdout",
     "output_type": "stream",
     "text": [
      "💬 AI 回應：\n",
      "{'model': 'gemma3:1b', 'created_at': '2025-09-13T07:27:46.879276Z', 'response': '{\\n\"解釋：\":\"Python的函式就像是小小的程式碼片段，你可以重複使用，並且可以根據需要改變它們。 就像一個腳本，你可以不斷地執行它，而不需要重新寫程式碼。\"\\n}', 'done': True, 'done_reason': 'stop', 'context': [105, 2364, 107, 239230, 237105, 74624, 48280, 185411, 26549, 237026, 32651, 236918, 238780, 237522, 237536, 106, 107, 105, 4368, 107, 236782, 107, 236775, 185411, 237184, 12375, 32651, 236918, 238780, 237522, 55326, 237026, 237369, 74517, 47972, 240897, 193442, 236900, 71407, 174322, 5938, 236900, 116256, 5157, 99647, 10042, 123930, 162576, 236924, 236743, 55326, 19966, 241803, 237261, 236900, 71407, 138459, 237307, 78204, 238010, 236900, 237521, 72889, 37502, 240564, 47972, 240897, 165220, 107, 236783], 'total_duration': 2572980917, 'load_duration': 172663292, 'prompt_eval_count': 21, 'prompt_eval_duration': 56535834, 'eval_count': 54, 'eval_duration': 2179722666}\n",
      "{\n",
      "\"解釋：\":\"Python的函式就像是小小的程式碼片段，你可以重複使用，並且可以根據需要改變它們。 就像一個腳本，你可以不斷地執行它，而不需要重新寫程式碼。\"\n",
      "}\n"
     ]
    }
   ],
   "source": [
    "import requests\n",
    "\n",
    "def chat_with_ollama(prompt: str):\n",
    "    url = \"http://localhost:11434/api/generate\"\n",
    "    payload = {\n",
    "        \"model\": \"gemma3:1b\",\n",
    "        \"prompt\": prompt,\n",
    "        \"stream\": False,\n",
    "        \"options\": { #參考說明1\n",
    "            \"temperature\": 0.7,\n",
    "            \"top_p\": 0.9,\n",
    "            \"top_k\": 50,\n",
    "        },\n",
    "        \"max_tokens\": 100,\n",
    "        \"format\": \"json\",\n",
    "    }\n",
    "\n",
    "    response = requests.post(url, json=payload)\n",
    "    result = response.json()\n",
    "    print(\"💬 AI 回應：\")\n",
    "    # Print the whole result for debugging\n",
    "    print(result)\n",
    "    # Try to print the 'response' key if it exists, otherwise print possible keys\n",
    "    if \"response\" in result:\n",
    "        print(result[\"response\"])\n",
    "    elif \"message\" in result:\n",
    "        print(result[\"message\"])\n",
    "    elif \"content\" in result:\n",
    "        print(result[\"content\"])\n",
    "    else:\n",
    "        print(\"No expected key found in response. Available keys:\", result.keys())\n",
    "\n",
    "#範例輸入\n",
    "chat_with_ollama(\"請用簡單的方式解釋什麼是Python的函式？\")"
   ]
  }
 ],
 "metadata": {
  "kernelspec": {
   "display_name": "langchain",
   "language": "python",
   "name": "python3"
  },
  "language_info": {
   "codemirror_mode": {
    "name": "ipython",
    "version": 3
   },
   "file_extension": ".py",
   "mimetype": "text/x-python",
   "name": "python",
   "nbconvert_exporter": "python",
   "pygments_lexer": "ipython3",
   "version": "3.11.13"
  }
 },
 "nbformat": 4,
 "nbformat_minor": 5
}
