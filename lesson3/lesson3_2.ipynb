{
 "cells": [
  {
   "cell_type": "markdown",
   "id": "ddd03293",
   "metadata": {},
   "source": [
    "##### curl http://localhost:11434/api/generate -d '{ \"model\": \"llama3.2\", \"prompt\":\"Why is the sky blue?\" }'"
   ]
  },
  {
   "cell_type": "code",
   "execution_count": null,
   "id": "9f1df96e",
   "metadata": {},
   "outputs": [
    {
     "name": "stdout",
     "output_type": "stream",
     "text": [
      "狀態碼: 200\n",
      "回應內容:\n",
      "{'model': 'llama3.2', 'created_at': '2025-09-13T06:52:16.049254Z', 'response': '天空的色彩主要是由於地球的光滑面反射和吸收了太陽發出的光線。當太陽發出光時，光線中的各種波長會受到不同程度的散射和吸收。\\n\\n其中，紅外線（800-1,400nm）和近紫外線（200-400nm）的波長主要被地球的大氣層吸收，而較短的紫外線（100-200nm）則被大氣層部分吸收。這使得大氣層不能反射出來的光線中，剩下了青色、藍色和紅色的波長。\\n\\n在這種情況下，蓝色是最能穿透大氣層並且被反射回我們眼睛中的波長，這就是为什么我们看到的天空是蓝色的原因。', 'done': True, 'done_reason': 'stop', 'context': [128006, 9125, 128007, 271, 38766, 1303, 33025, 2696, 25, 6790, 220, 2366, 18, 271, 128009, 128006, 882, 128007, 271, 36827, 35894, 101399, 101567, 114064, 21043, 126930, 118458, 30, 128009, 128006, 78191, 128007, 271, 36827, 35894, 9554, 39135, 103311, 105572, 21043, 68171, 102572, 127960, 9554, 101426, 113764, 28190, 95543, 105644, 34208, 107246, 51109, 35287, 101402, 107873, 103106, 114606, 101426, 101911, 1811, 106763, 101402, 107873, 103106, 20834, 101426, 39177, 3922, 101426, 101911, 105363, 102208, 104091, 103682, 101544, 101835, 116576, 107653, 113314, 9554, 107471, 105644, 34208, 107246, 51109, 3490, 92019, 3922, 113000, 48915, 101911, 10110, 4728, 12, 16, 11, 3443, 20211, 7705, 34208, 60358, 117508, 48915, 101911, 10110, 1049, 12, 3443, 20211, 125305, 103682, 101544, 105572, 101307, 127960, 112914, 107895, 114050, 107246, 51109, 104122, 112274, 106649, 9554, 117508, 48915, 101911, 10110, 1041, 12, 1049, 20211, 7705, 108630, 101307, 27384, 107895, 114050, 105494, 107246, 51109, 1811, 103864, 33655, 50928, 27384, 107895, 114050, 54253, 95543, 105644, 20834, 102993, 9554, 101426, 101911, 16325, 3922, 122679, 17297, 35287, 103271, 39135, 5486, 126930, 39135, 34208, 113000, 118458, 103682, 101544, 3490, 19000, 103864, 104091, 40474, 109369, 17297, 3922, 115427, 39135, 21043, 32335, 27327, 108669, 108950, 27384, 107895, 114050, 105360, 103786, 101307, 95543, 105644, 18904, 123518, 115931, 105363, 103682, 101544, 122190, 103179, 113221, 98739, 110354, 9554, 36827, 35894, 21043, 115427, 118458, 113385, 1811], 'total_duration': 16938073666, 'load_duration': 1356335583, 'prompt_eval_count': 34, 'prompt_eval_duration': 392706833, 'eval_count': 182, 'eval_duration': 15187872208}\n"
     ]
    }
   ],
   "source": [
    "import requests\n",
    "\n",
    "# 將您的 curl 命令轉換成 requests\n",
    "url = \"http://localhost:11434/api/generate\"\n",
    "\n",
    "# 準備請求的資料 (JSON 格式)\n",
    "data = {\n",
    "    \"model\": \"llama3.2\",\n",
    "    \"prompt\": \"Why is the sky blue?\"\n",
    "}\n",
    "\n",
    "# 發送 POST 請求 (因為 curl 使用了 -d 參數)\n",
    "response = requests.post(url, json=data)\n",
    "\n",
    "# 檢查回應狀態\n",
    "print(f\"狀態碼: {response.status_code}\")\n",
    "\n",
    "# 取得回應內容\n",
    "if response.status_code == 200:\n",
    "    result = response.json()\n",
    "    print(\"回應內容:\")\n",
    "    print(result)\n",
    "else:\n",
    "    print(f\"請求失敗: {response.text}\")"
   ]
  },
  {
   "cell_type": "code",
   "execution_count": 1,
   "id": "5ff4e9e3",
   "metadata": {},
   "outputs": [
    {
     "name": "stdout",
     "output_type": "stream",
     "text": [
      "請求發生錯誤: Extra data: line 2 column 1 (char 94)\n"
     ]
    }
   ],
   "source": [
    "# 另一種寫法：使用 data 參數而不是 json 參數\n",
    "import requests\n",
    "import json\n",
    "\n",
    "url = \"http://localhost:11434/api/generate\"\n",
    "\n",
    "# 方法1：使用 json 參數 (推薦)\n",
    "data = {\n",
    "    \"model\": \"llama3.2\",\n",
    "    \"prompt\": \"Why is the sky blue?\"\n",
    "}\n",
    "\n",
    "try:\n",
    "    response = requests.post(url, json=data)\n",
    "    response.raise_for_status()  # 如果狀態碼不是 2xx，會拋出異常\n",
    "    result = response.json()\n",
    "    print(\"成功取得回應:\")\n",
    "    print(result)\n",
    "except requests.exceptions.RequestException as e:\n",
    "    print(f\"請求發生錯誤: {e}\")\n",
    "except json.JSONDecodeError as e:\n",
    "    print(f\"JSON 解析錯誤: {e}\")\n",
    "    print(f\"原始回應: {response.text}\")\n"
   ]
  },
  {
   "cell_type": "code",
   "execution_count": null,
   "id": "f043cd67",
   "metadata": {},
   "outputs": [],
   "source": [
    "# 方法2：使用 data 參數 (需要手動轉換 JSON 字串)\n",
    "import requests\n",
    "import json\n",
    "\n",
    "url = \"http://localhost:11434/api/generate\"\n",
    "\n",
    "data = {\n",
    "    \"model\": \"llama3.2\",\n",
    "    \"prompt\": \"Why is the sky blue?\"\n",
    "}\n",
    "\n",
    "# 手動將字典轉換為 JSON 字串\n",
    "json_data = json.dumps(data)\n",
    "\n",
    "# 設定 Content-Type header\n",
    "headers = {\n",
    "    \"Content-Type\": \"application/json\"\n",
    "}\n",
    "\n",
    "response = requests.post(url, data=json_data, headers=headers)\n",
    "\n",
    "print(f\"狀態碼: {response.status_code}\")\n",
    "if response.status_code == 200:\n",
    "    result = response.json()\n",
    "    print(\"回應內容:\")\n",
    "    print(result)\n",
    "else:\n",
    "    print(f\"請求失敗: {response.text}\")\n"
   ]
  },
  {
   "cell_type": "markdown",
   "id": "ae511263",
   "metadata": {},
   "source": [
    "## 📝 curl 轉換成 requests 的說明\n",
    "\n",
    "### 🔄 轉換要點：\n",
    "\n",
    "1. **HTTP 方法**：`curl -d` 表示發送 POST 請求，所以使用 `requests.post()`\n",
    "\n",
    "2. **URL**：直接使用相同的 URL\n",
    "\n",
    "3. **資料格式**：\n",
    "   - `curl -d` 後面的 JSON 資料變成 Python 字典\n",
    "   - 使用 `json=data` 參數自動處理 Content-Type 和 JSON 編碼\n",
    "\n",
    "### 🎯 兩種主要方法：\n",
    "\n",
    "**方法1（推薦）**：使用 `json` 參數\n",
    "```python\n",
    "response = requests.post(url, json=data)\n",
    "```\n",
    "\n",
    "**方法2**：使用 `data` 參數 + 手動 JSON 編碼\n",
    "```python\n",
    "response = requests.post(url, data=json.dumps(data), headers={'Content-Type': 'application/json'})\n",
    "```\n",
    "\n",
    "### ⚠️ 注意事項：\n",
    "- 確保目標伺服器正在運行\n",
    "- 檢查網路連線\n",
    "- 處理可能的錯誤狀況\n"
   ]
  }
 ],
 "metadata": {
  "kernelspec": {
   "display_name": "langchain",
   "language": "python",
   "name": "python3"
  },
  "language_info": {
   "codemirror_mode": {
    "name": "ipython",
    "version": 3
   },
   "file_extension": ".py",
   "mimetype": "text/x-python",
   "name": "python",
   "nbconvert_exporter": "python",
   "pygments_lexer": "ipython3",
   "version": "3.11.13"
  }
 },
 "nbformat": 4,
 "nbformat_minor": 5
}
