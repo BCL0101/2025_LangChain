{
 "cells": [
  {
   "cell_type": "code",
   "execution_count": null,
   "id": "24c9a409",
   "metadata": {},
   "outputs": [],
   "source": [
    "# 1. 基本 Prompt Template 使用\n",
    "from langchain.prompts import PromptTemplate\n",
    "\n",
    "# 建立翻譯模板\n",
    "template_text = \"\"\"\n",
    "你是一位專業的繁體中文翻譯家，具有豐富的語言學背景。\n",
    "請將使用者提供的以下英文句子翻譯成流暢、自然的繁體中文。\n",
    "\n",
    "英文句子：{english_sentence}\n",
    "繁體中文翻譯：\n",
    "\"\"\"\n",
    "\n",
    "# 建立 Prompt Template\n",
    "prompt_template = PromptTemplate(\n",
    "    template=template_text,\n",
    "    input_variables=[\"english_sentence\"]\n",
    "    \n",
    ")\n",
    "\n",
    "# 使用模板\n",
    "formatted_prompt = prompt_template.format(english_sentence=\"Hello, how are you?\")\n",
    "print(\"=== 基本 Prompt Template 範例 ===\")\n",
    "print(formatted_prompt)"
   ]
  },
  {
   "cell_type": "code",
   "execution_count": null,
   "id": "52ccd7ef",
   "metadata": {},
   "outputs": [],
   "source": [
    "apple = 5\n",
    "orange = 9\n",
    "\n",
    "\"我有蘋果\" + str(apple) + \"顆,橘子\" + str(orange) + \"個\""
   ]
  },
  {
   "cell_type": "code",
   "execution_count": null,
   "id": "7ec463a1",
   "metadata": {},
   "outputs": [],
   "source": [
    "#f-string\n",
    "#字串插補\n",
    "\n",
    "f\"我有蘋果{apple}顆,橘子{orange}個\""
   ]
  },
  {
   "cell_type": "code",
   "execution_count": null,
   "id": "eac3a83a",
   "metadata": {},
   "outputs": [],
   "source": [
    "english_sentence = \"How are you\"\n",
    "print(f\"\"\"你是一位專業的繁體中文翻譯家，具有豐富的語言學背景。\n",
    "請將使用者提供的以下英文句子翻譯成流暢、自然的繁體中文。\n",
    "\n",
    "英文句子：{english_sentence}\n",
    "繁體中文翻譯：\"\"\")"
   ]
  },
  {
   "cell_type": "code",
   "execution_count": null,
   "id": "99bf135d",
   "metadata": {},
   "outputs": [],
   "source": [
    "# 2. 多變數的複雜模板\n",
    "from langchain.prompts import ChatPromptTemplate\n",
    "\n",
    "# 建立多變數的翻譯模板\n",
    "complex_template = \"\"\"\n",
    "你是一位專業的{target_language}翻譯家，專精於{domain}領域。\n",
    "請將以下{source_language}文本翻譯成{target_language}，並確保：\n",
    "1. 保持原文的語氣和風格\n",
    "2. 使用專業術語\n",
    "3. 符合{target_language}的語言習慣\n",
    "\n",
    "{source_language}文本：{text}\n",
    "{target_language}翻譯：\n",
    "\"\"\"\n",
    "\n",
    "chat_prompt_template = ChatPromptTemplate.from_template(complex_template)\n",
    "\n",
    "formatted_prompt = chat_prompt_template.format(\n",
    "    target_language=\"繁體中文\",\n",
    "    source_language=\"英文\",\n",
    "    domain=\"商業\",\n",
    "    text=\"The quarterly revenue increased by 15% compared to last year.\"\n",
    "    )\n",
    "\n",
    "print(\"=== 多變數複雜模板範例 ===\")\n",
    "print(formatted_prompt)"
   ]
  }
 ],
 "metadata": {
  "kernelspec": {
   "display_name": "2025_LangChain",
   "language": "python",
   "name": "python3"
  },
  "language_info": {
   "codemirror_mode": {
    "name": "ipython",
    "version": 3
   },
   "file_extension": ".py",
   "mimetype": "text/x-python",
   "name": "python",
   "nbconvert_exporter": "python",
   "pygments_lexer": "ipython3",
   "version": "3.11.13"
  }
 },
 "nbformat": 4,
 "nbformat_minor": 5
}
