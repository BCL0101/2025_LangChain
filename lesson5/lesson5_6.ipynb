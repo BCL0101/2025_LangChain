{
 "cells": [
  {
   "cell_type": "code",
   "execution_count": 1,
   "id": "4d434029",
   "metadata": {},
   "outputs": [
    {
     "name": "stdout",
     "output_type": "stream",
     "text": [
      "=== Ollama 模型設定完成 ===\n",
      "使用模型: gemma3:270m\n",
      "模型類型: <class 'langchain_ollama.llms.OllamaLLM'>\n"
     ]
    }
   ],
   "source": [
    "from langchain_ollama import OllamaLLM\n",
    "\n",
    "model = OllamaLLM(model=\"gemma3:270m\")\n",
    "print(\"=== Ollama 模型設定完成 ===\")\n",
    "print(f\"使用模型: gemma3:270m\")\n",
    "print(f\"模型類型: {type(model)}\")"
   ]
  },
  {
   "cell_type": "code",
   "execution_count": 2,
   "id": "a06ffa9e",
   "metadata": {},
   "outputs": [
    {
     "name": "stdout",
     "output_type": "stream",
     "text": [
      "=== 基本 Prompt Template 範例 ===\n",
      "\n",
      "你是一位專業的繁體中文翻譯家，具有豐富的語言學背景。\n",
      "請將使用者提供的以下英文句子翻譯成流暢、自然的繁體中文。\n",
      "\n",
      "英文句子：Despite the initial skepticism from the board, the engineering team persevered with their unconventional approach, which ultimately proved to be the breakthrough the company desperately needed.\n",
      "繁體中文翻譯：\n",
      "\n",
      "\n",
      "==================================================\n",
      "Ollama gemma3:1b模型回應:\n",
      "以下是針對您提供的英文句子，我提供的幾個版本，各有側重，您可以根據需求選擇：\n",
      "\n",
      "**版本一 (較正式)：**\n",
      "\n",
      "「董事會最初對這個方法抱有疑慮，但工程團隊仍然堅持著他們的非傳統方針，最終證明是公司 desperately  desperately 尋求的突破。」\n",
      "\n",
      "**版本二 (稍為流暢)：**\n",
      "\n",
      "「董事會最初反應有點不樂觀，但工程團隊並沒有放棄，他們的獨特方法最終卻成為了公司 desperately  desperately 尋求的關鍵。」\n",
      "\n",
      "**版本三 (強調突破)：**\n",
      "\n",
      "「董事會最初有所抵觸，但工程團隊以他們的非傳統方式繼續努力，最終卻成為了公司 desperately  desperately 尋求的轉機。」\n",
      "\n",
      "**版本四 (簡潔，適合正式文稿)：**\n",
      "\n",
      "「董事會最初持疑，但工程團隊堅持舊方法，最終實現了公司的突破。」\n",
      "\n",
      "**我的考量和語言學背景因素：**\n",
      "\n",
      "*   **整體語氣：** 我力求讓翻譯更流暢，並避免生硬的翻譯。\n",
      "*   **語法：**  我注重語法上的準確性，確保翻譯符合繁體中文的語法規則。\n",
      "*   **詞彙：** 我選擇了較為常用的、更具體的詞彙，更符合繁體中文的表達習慣。\n",
      "*   **句子結構：**  我力求保持原意，並將句子稍微調整，使之更易於理解。\n",
      "\n",
      "**選擇哪個版本取決於您希望傳達的語氣和文案的用途。**  如果您需要更專業的翻譯，建議您參考這些版本，並根據您的特定需求進行調整。\n",
      "\n",
      "希望這些翻譯版本對您有所幫助！  如果您有任何其他需要翻譯的內容，請隨時告訴我。\n",
      "\n"
     ]
    }
   ],
   "source": [
    "# 1. 基本 Prompt Template 使用\n",
    "from langchain.prompts import PromptTemplate\n",
    "from langchain_ollama import OllamaLLM\n",
    "\n",
    "model = OllamaLLM(model=\"gemma3:1b\")\n",
    "\n",
    "# 建立翻譯模板\n",
    "template_text = \"\"\"\n",
    "你是一位專業的繁體中文翻譯家，具有豐富的語言學背景。\n",
    "請將使用者提供的以下英文句子翻譯成流暢、自然的繁體中文。\n",
    "\n",
    "英文句子：{english_sentence}\n",
    "繁體中文翻譯：\n",
    "\"\"\"\n",
    "\n",
    "# 建立 Prompt Template\n",
    "prompt_template = PromptTemplate(\n",
    "    template=template_text,\n",
    "    input_variables=[\"english_sentence\"]\n",
    "    \n",
    ")\n",
    "\n",
    "# 使用模板\n",
    "formatted_prompt = prompt_template.format(english_sentence=\"Despite the initial skepticism from the board, the engineering team persevered with their unconventional approach, which ultimately proved to be the breakthrough the company desperately needed.\")\n",
    "print(\"=== 基本 Prompt Template 範例 ===\")\n",
    "print(formatted_prompt)\n",
    "print(\"\\n\" + \"=\"*50)\n",
    "print(\"Ollama gemma3:1b模型回應:\")\n",
    "\n",
    "response = model.invoke(formatted_prompt)\n",
    "print(response)"
   ]
  }
 ],
 "metadata": {
  "kernelspec": {
   "display_name": "2025_LangChain",
   "language": "python",
   "name": "python3"
  },
  "language_info": {
   "codemirror_mode": {
    "name": "ipython",
    "version": 3
   },
   "file_extension": ".py",
   "mimetype": "text/x-python",
   "name": "python",
   "nbconvert_exporter": "python",
   "pygments_lexer": "ipython3",
   "version": "3.11.13"
  }
 },
 "nbformat": 4,
 "nbformat_minor": 5
}
