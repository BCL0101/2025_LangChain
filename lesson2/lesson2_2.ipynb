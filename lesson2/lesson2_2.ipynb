{
 "cells": [
  {
   "cell_type": "code",
   "execution_count": 1,
   "id": "9e7cc700",
   "metadata": {},
   "outputs": [
    {
     "name": "stdout",
     "output_type": "stream",
     "text": [
      "斜邊長度 = 6.40\n"
     ]
    }
   ],
   "source": [
    "import math\n",
    "\n",
    "adjacent_side = 5\n",
    "opposite_side = 4\n",
    "\n",
    "hypotenuse_length = math.sqrt(adjacent_side ** 2 + opposite_side ** 2)\n",
    "print(f\"斜邊長度 = {hypotenuse_length:.2f}\")"
   ]
  },
  {
   "cell_type": "code",
   "execution_count": 7,
   "id": "96294fe7",
   "metadata": {},
   "outputs": [
    {
     "name": "stdout",
     "output_type": "stream",
     "text": [
      "Bernard\n"
     ]
    }
   ],
   "source": [
    "is_nice:bool = False\n",
    "print(\"Bernard\")\n",
    "#單項選擇\n",
    "if is_nice:\n",
    "    print(\"他人不錯\")"
   ]
  },
  {
   "cell_type": "code",
   "execution_count": 8,
   "id": "ce7550c8",
   "metadata": {},
   "outputs": [
    {
     "name": "stdout",
     "output_type": "stream",
     "text": [
      "Bernard\n",
      "他人不錯\n"
     ]
    }
   ],
   "source": [
    "is_nice:bool = True\n",
    "print(\"Bernard\")\n",
    "#雙向選擇\n",
    "if is_nice:\n",
    "    print(\"他人不錯\")\n",
    "else:\n",
    "    print(\"他一般般\")"
   ]
  },
  {
   "cell_type": "code",
   "execution_count": 37,
   "id": "c088ed9c",
   "metadata": {},
   "outputs": [
    {
     "name": "stdout",
     "output_type": "stream",
     "text": [
      "滿分！！\n"
     ]
    }
   ],
   "source": [
    "#成績判斷\n",
    "scores = 100\n",
    "\n",
    "if scores == 100:\n",
    "    print(\"滿分！！\")\n",
    "elif scores >= 60 and scores <=99:   #數值區間判斷\n",
    "    print(\"及格\")\n",
    "else:\n",
    "    print(\"不及格\")"
   ]
  }
 ],
 "metadata": {
  "kernelspec": {
   "display_name": "langchain",
   "language": "python",
   "name": "python3"
  },
  "language_info": {
   "codemirror_mode": {
    "name": "ipython",
    "version": 3
   },
   "file_extension": ".py",
   "mimetype": "text/x-python",
   "name": "python",
   "nbconvert_exporter": "python",
   "pygments_lexer": "ipython3",
   "version": "3.11.13"
  }
 },
 "nbformat": 4,
 "nbformat_minor": 5
}
