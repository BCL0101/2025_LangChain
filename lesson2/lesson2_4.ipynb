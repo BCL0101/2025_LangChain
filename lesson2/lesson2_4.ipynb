{
 "cells": [
  {
   "cell_type": "markdown",
   "id": "70d069a3",
   "metadata": {},
   "source": [
    "### 自定義 function"
   ]
  },
  {
   "cell_type": "markdown",
   "id": "ca0a0002",
   "metadata": {},
   "source": [
    "```\n",
    "自訂function\n",
    "定義function\n",
    "#def 名稱(參數,參數)\n",
    "呼叫function\n",
    "#名稱(引數值,引數值)\n",
    "```"
   ]
  },
  {
   "cell_type": "code",
   "execution_count": 8,
   "id": "88045bbf",
   "metadata": {},
   "outputs": [
    {
     "name": "stdout",
     "output_type": "stream",
     "text": [
      "     *     \n",
      "    ***     \n",
      "   *****   \n",
      "  *******  \n",
      " ********* \n",
      "***********\n",
      "    | |    \n"
     ]
    }
   ],
   "source": [
    "#自訂一個function,必需列印出聖誕樹,不使用迴圈,只要使用純print,要有樹葉和樹幹\n",
    "#todo:實作function 列印聖誕樹    \n",
    "\n",
    "def print_christmas_tree():\n",
    "    # 樹葉部分\n",
    "    print(\"     *     \")\n",
    "    print(\"    ***     \")\n",
    "    print(\"   *****   \")\n",
    "    print(\"  *******  \")\n",
    "    print(\" ********* \")\n",
    "    print(\"***********\")\n",
    "    # 樹幹部分\n",
    "    print(\"    | |    \")\n",
    "\n",
    "# 呼叫函式，列印聖誕樹\n",
    "print_christmas_tree()"
   ]
  },
  {
   "cell_type": "code",
   "execution_count": 9,
   "id": "14991304",
   "metadata": {},
   "outputs": [
    {
     "name": "stdout",
     "output_type": "stream",
     "text": [
      "     *     \n",
      "    ***     \n",
      "   *****   \n",
      "  *******  \n",
      " ********* \n",
      "***********\n",
      "    | |    \n"
     ]
    }
   ],
   "source": [
    "print_christmas_tree()"
   ]
  },
  {
   "cell_type": "code",
   "execution_count": 12,
   "id": "99a14943",
   "metadata": {},
   "outputs": [
    {
     "name": "stdout",
     "output_type": "stream",
     "text": [
      "圓面積 = 113.10\n",
      "圓周長 = 37.70\n"
     ]
    }
   ],
   "source": [
    "#自訂一個function,會計算圓面積和圓周長\n",
    "#todo:實作function 計算面積和圓周長\n",
    "import math\n",
    "\n",
    "def calculate_circle(radius):\n",
    "    #計算圓面積\n",
    "    area = math.pi * radius ** 2\n",
    "    #計算圓周長\n",
    "    circumference = 2 * math.pi * radius\n",
    "    return area, circumference\n",
    "\n",
    "#呼叫函式，計算圓面積和圓周長\n",
    "radius = float(input(\"請輸入圓的半徑: \"))\n",
    "area, circumference = calculate_circle(radius)\n",
    "print(f\"圓面積 = {area:.2f}\")\n",
    "print(f\"圓周長 = {circumference:.2f}\")"
   ]
  },
  {
   "cell_type": "code",
   "execution_count": 11,
   "id": "09b51c57",
   "metadata": {},
   "outputs": [
    {
     "name": "stdout",
     "output_type": "stream",
     "text": [
      "178\n",
      "80\n"
     ]
    }
   ],
   "source": [
    "#tuple的拆解法\n",
    "height, weight= 178,80\n",
    "print(height)\n",
    "print(weight)"
   ]
  }
 ],
 "metadata": {
  "kernelspec": {
   "display_name": "langchain",
   "language": "python",
   "name": "python3"
  },
  "language_info": {
   "codemirror_mode": {
    "name": "ipython",
    "version": 3
   },
   "file_extension": ".py",
   "mimetype": "text/x-python",
   "name": "python",
   "nbconvert_exporter": "python",
   "pygments_lexer": "ipython3",
   "version": "3.11.13"
  }
 },
 "nbformat": 4,
 "nbformat_minor": 5
}
