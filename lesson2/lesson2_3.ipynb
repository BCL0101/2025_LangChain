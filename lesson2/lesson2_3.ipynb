{
 "cells": [
  {
   "cell_type": "code",
   "execution_count": 1,
   "id": "db92bef0",
   "metadata": {},
   "outputs": [
    {
     "data": {
      "text/plain": [
       "60"
      ]
     },
     "execution_count": 1,
     "metadata": {},
     "output_type": "execute_result"
    }
   ],
   "source": [
    "i = 10\n",
    "i = i + 50\n",
    "i"
   ]
  },
  {
   "cell_type": "code",
   "execution_count": 2,
   "id": "6c8cce5a",
   "metadata": {},
   "outputs": [
    {
     "data": {
      "text/plain": [
       "60"
      ]
     },
     "execution_count": 2,
     "metadata": {},
     "output_type": "execute_result"
    }
   ],
   "source": [
    "i = 10\n",
    "#複合指定運算子\n",
    "i += 50\n",
    "i"
   ]
  },
  {
   "cell_type": "code",
   "execution_count": 4,
   "id": "3349a8e8",
   "metadata": {},
   "outputs": [
    {
     "data": {
      "text/plain": [
       "55"
      ]
     },
     "execution_count": 4,
     "metadata": {},
     "output_type": "execute_result"
    }
   ],
   "source": [
    "i = 0\n",
    "i += 1\n",
    "i += 2\n",
    "i += 3\n",
    "i += 4\n",
    "i += 5\n",
    "i += 6\n",
    "i += 7\n",
    "i += 8\n",
    "i += 9\n",
    "i += 10\n",
    "i"
   ]
  },
  {
   "cell_type": "markdown",
   "id": "abb05ea5",
   "metadata": {},
   "source": [
    "### **重複執行**"
   ]
  },
  {
   "cell_type": "markdown",
   "id": "6a83690a",
   "metadata": {},
   "source": [
    "```\n",
    "明確知道執行的次數使用：for 區塊變數 in 串列資料：\n",
    "不知道執行的次數使用：while 迴圈\n",
    "j 代表迴圈 (loop) 中的計數器或迭代變數\n",
    "當 for j in range(1,11) 這行程式碼執行時：\n",
    "* range(1,11) 會產生一個從 1 到 10 的數字序列（不包含 11）。\n",
    "* j 會依序取用這個序列中的每一個數字。\n",
    "```"
   ]
  },
  {
   "cell_type": "code",
   "execution_count": null,
   "id": "3faad1ba",
   "metadata": {},
   "outputs": [],
   "source": [
    "for i in range(10):\n",
    "    print(i)"
   ]
  },
  {
   "cell_type": "code",
   "execution_count": 7,
   "id": "7a6f7bb8",
   "metadata": {},
   "outputs": [
    {
     "data": {
      "text/plain": [
       "55"
      ]
     },
     "execution_count": 7,
     "metadata": {},
     "output_type": "execute_result"
    }
   ],
   "source": [
    "i = 0\n",
    "for j in range(1,11):\n",
    "    i += j\n",
    "i"
   ]
  },
  {
   "cell_type": "code",
   "execution_count": 8,
   "id": "fa1d4dc4",
   "metadata": {},
   "outputs": [
    {
     "data": {
      "text/plain": [
       "5050"
      ]
     },
     "execution_count": 8,
     "metadata": {},
     "output_type": "execute_result"
    }
   ],
   "source": [
    "i = 0\n",
    "for j in range(1,101):\n",
    "    i += j\n",
    "i"
   ]
  },
  {
   "cell_type": "code",
   "execution_count": null,
   "id": "5c88554e",
   "metadata": {},
   "outputs": [
    {
     "name": "stdout",
     "output_type": "stream",
     "text": [
      "太小了!\n",
      "太小了!\n",
      "猜對了!\n",
      "遊戲結束\n"
     ]
    }
   ],
   "source": [
    "#猜數字遊戲\n",
    "import random\n",
    "\n",
    "secret_number = random.randint(1, 10)\n",
    "\n",
    "while True: # 無限迴圈\n",
    "    guess = int(input(\"請猜一個1到10的數字: \"))\n",
    "    if guess == secret_number:\n",
    "        print(\"猜對了!\")\n",
    "        break # 跳出迴圈\n",
    "    elif guess < secret_number:\n",
    "        print(\"太小了!\")\n",
    "    else:\n",
    "        print(\"太大了!\")\n",
    "        \n",
    "print(\"遊戲結束\")"
   ]
  }
 ],
 "metadata": {
  "kernelspec": {
   "display_name": "langchain",
   "language": "python",
   "name": "python3"
  },
  "language_info": {
   "codemirror_mode": {
    "name": "ipython",
    "version": 3
   },
   "file_extension": ".py",
   "mimetype": "text/x-python",
   "name": "python",
   "nbconvert_exporter": "python",
   "pygments_lexer": "ipython3",
   "version": "3.11.13"
  }
 },
 "nbformat": 4,
 "nbformat_minor": 5
}
