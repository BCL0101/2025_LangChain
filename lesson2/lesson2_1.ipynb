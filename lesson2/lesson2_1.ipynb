{
 "cells": [
  {
   "cell_type": "markdown",
   "id": "4696928a",
   "metadata": {},
   "source": [
    "### python 數學運算"
   ]
  },
  {
   "cell_type": "markdown",
   "id": "669a79d9",
   "metadata": {},
   "source": [
    "```\n",
    "# 基本語法：變數名稱 = 值\n",
    "name = \"小明\"\n",
    "age = 18\n",
    "height = 175.5\n",
    "is_student = True\n",
    "```"
   ]
  },
  {
   "cell_type": "code",
   "execution_count": 8,
   "id": "a12aa8a6",
   "metadata": {},
   "outputs": [
    {
     "name": "stdout",
     "output_type": "stream",
     "text": [
      "小明\n",
      "<class 'str'>\n",
      "=============\n",
      "20\n",
      "<class 'int'>\n",
      "=============\n",
      "170.5\n",
      "<class 'float'>\n",
      "===============\n",
      "True\n",
      "<class 'bool'>\n",
      "==============\n"
     ]
    }
   ],
   "source": [
    "name = \"小明\"\n",
    "print(name)\n",
    "print(type(name)) #呼叫function\n",
    "print('=============')\n",
    "\n",
    "age = 20\n",
    "print(age)\n",
    "print(type(age))\n",
    "print('=============')\n",
    "\n",
    "height = 170.5\n",
    "print(height)\n",
    "print(type(height))\n",
    "print('===============')\n",
    "\n",
    "is_student = True\n",
    "print(is_student)\n",
    "print(type(is_student)) \n",
    "print('==============')"
   ]
  },
  {
   "cell_type": "code",
   "execution_count": 9,
   "id": "74cef995",
   "metadata": {},
   "outputs": [
    {
     "name": "stdout",
     "output_type": "stream",
     "text": [
      "name變數儲存的值是小明,資料類型是:<class 'str'>.\n",
      "age變數儲存的值是20,資料類型是:<class 'int'>.\n"
     ]
    }
   ],
   "source": [
    "print(\"name變數儲存的值是\",name,\",資料類型是:\",type(name),sep='',end='.\\n')\n",
    "print(\"age變數儲存的值是\",age,\",資料類型是:\",type(age),sep='',end='.\\n')"
   ]
  },
  {
   "cell_type": "code",
   "execution_count": null,
   "id": "c9adbf7f",
   "metadata": {},
   "outputs": [
    {
     "name": "stdout",
     "output_type": "stream",
     "text": [
      "name變數儲存的值是小明,資料類型是:<class 'str'>.\n",
      "age變數儲存的值是20,資料類型是:<class 'int'>.\n"
     ]
    }
   ],
   "source": [
    "# 字串插補\n",
    "print(f\"name變數儲存的值是{name},資料類型是:{type(name)}.\")\n",
    "print(f\"age變數儲存的值是{age},資料類型是:{type(age)}.\")"
   ]
  },
  {
   "cell_type": "code",
   "execution_count": null,
   "id": "8372b0de",
   "metadata": {},
   "outputs": [
    {
     "name": "stdout",
     "output_type": "stream",
     "text": [
      "加法: 10 + 3 = 13\n",
      "減法: 10 - 3 = 7\n",
      "乘法: a * b = 30\n",
      "除法: a / b = 3.333\n",
      "餘數: 1\n",
      "指數: 1000\n"
     ]
    }
   ],
   "source": [
    "# 數學運算範例\n",
    "a = 10\n",
    "b = 3\n",
    "\n",
    "addition = a + b\n",
    "subtraction = a - b\n",
    "multiplication = a * b\n",
    "division = a / b\n",
    "modulus = a % b\n",
    "exponent = a ** b\n",
    "# 下面是字串插補範例,有三種方式呈現\n",
    "print(f\"加法: {a} + {b} = {addition}\")  # 用{a}{b}在執行時顯示數字\n",
    "print(f\"減法: {a} - {b} = {subtraction}\")\n",
    "print(f\"乘法: a * b = {multiplication}\")  # 運算完整公式\n",
    "print(f\"除法: a / b = {division:.3f}\")  #.3f 表示小數點後幾位\n",
    "print(f\"餘數: {modulus}\")  # 直接執行出值\n",
    "print(f\"指數: {exponent}\")"
   ]
  },
  {
   "cell_type": "code",
   "execution_count": 26,
   "id": "36305e79",
   "metadata": {},
   "outputs": [
    {
     "name": "stdout",
     "output_type": "stream",
     "text": [
      "斜邊長度 = 5.00\n"
     ]
    }
   ],
   "source": [
    "# 有一個直角三角形，已知兩邊長，求第三邊長\n",
    "# 已知兩邊長，求第三邊長\n",
    "\n",
    "import math\n",
    "\n",
    "adjacent_side = 3  # 鄰邊長度\n",
    "opposite_side = 4  # 對邊長度\n",
    "\n",
    "# 使用畢氏定理計算斜邊長度\n",
    "hypotenuse_length = math.sqrt(adjacent_side**2 + opposite_side**2)\n",
    "\n",
    "print(f\"斜邊長度 = {hypotenuse_length:.2f}\")"
   ]
  },
  {
   "cell_type": "code",
   "execution_count": 27,
   "id": "923e8b74",
   "metadata": {},
   "outputs": [
    {
     "name": "stdout",
     "output_type": "stream",
     "text": [
      "斜邊長度 = 6.40\n"
     ]
    }
   ],
   "source": [
    "import math\n",
    "\n",
    "adjacent_side = 5\n",
    "opposite_side = 4\n",
    "\n",
    "hypotenuse_length = math.sqrt(adjacent_side ** 2 + opposite_side ** 2)\n",
    "print(f\"斜邊長度 = {hypotenuse_length:.2f}\")"
   ]
  }
 ],
 "metadata": {
  "kernelspec": {
   "display_name": "langchain",
   "language": "python",
   "name": "python3"
  },
  "language_info": {
   "codemirror_mode": {
    "name": "ipython",
    "version": 3
   },
   "file_extension": ".py",
   "mimetype": "text/x-python",
   "name": "python",
   "nbconvert_exporter": "python",
   "pygments_lexer": "ipython3",
   "version": "3.11.13"
  }
 },
 "nbformat": 4,
 "nbformat_minor": 5
}
