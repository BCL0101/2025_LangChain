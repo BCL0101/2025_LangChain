{
 "cells": [
  {
   "cell_type": "markdown",
   "id": "b18c987b",
   "metadata": {},
   "source": [
    "### 使用ollama"
   ]
  },
  {
   "cell_type": "code",
   "execution_count": null,
   "id": "f5f6bf40",
   "metadata": {},
   "outputs": [
    {
     "name": "stdout",
     "output_type": "stream",
     "text": [
      "<class 'langchain_core.messages.ai.AIMessage'>\n",
      "所有答案\n",
      "content='81除以9等于9。\\n\\n81 / 9 = 9\\n' additional_kwargs={} response_metadata={'model': 'gemma3:1b', 'created_at': '2025-09-20T06:48:34.342132Z', 'done': True, 'done_reason': 'stop', 'total_duration': 1939329375, 'load_duration': 1135135500, 'prompt_eval_count': 18, 'prompt_eval_duration': 134982875, 'eval_count': 19, 'eval_duration': 668530000, 'model_name': 'gemma3:1b'} id='run--18366faf-9b04-4989-b55c-943a799c9851-0' usage_metadata={'input_tokens': 18, 'output_tokens': 19, 'total_tokens': 37}\n",
      "回答內容是\n",
      "81除以9等于9。\n",
      "\n",
      "81 / 9 = 9\n",
      "\n"
     ]
    }
   ],
   "source": [
    "from langchain_ollama import ChatOllama\n",
    "\n",
    "\n",
    "# Create a ChatOllama model\n",
    "# 透過網址的方式連結ollama (指定 base_url 指向 Ollama server)\n",
    "# 預設 Ollama server 在本機的 11434 埠，若在其他主機或埠請改成相對應的網址\n",
    "\n",
    "#model = ChatOllama(model=\"llama3.2:latest\", base_url=\"http://host.docker.internal:11434\")\n",
    "#model = ChatOllama(model=\"gemma3:1b\",base_url=\"http://localhost:11434\")\n",
    "model = ChatOllama(model=\"llama3.2:latest\",base_url=\"http://localhost:11434\")\n",
    "\n",
    "\n",
    "# Invoke the model with a message\n",
    "result = model.invoke(\"81除以9的答案是?\")\n",
    "print(type(result))\n",
    "print(\"所有答案\")\n",
    "print(result)\n",
    "print(\"回答內容是\")\n",
    "print(result.content)"
   ]
  },
  {
   "cell_type": "markdown",
   "id": "522e1f76",
   "metadata": {},
   "source": [
    "### google-gemini"
   ]
  },
  {
   "cell_type": "code",
   "execution_count": 7,
   "id": "1f1fdadb",
   "metadata": {},
   "outputs": [
    {
     "name": "stdout",
     "output_type": "stream",
     "text": [
      "<class 'langchain_google_genai.chat_models.ChatGoogleGenerativeAI'>\n"
     ]
    },
    {
     "name": "stderr",
     "output_type": "stream",
     "text": [
      "E0000 00:00:1758355502.532984  229716 alts_credentials.cc:93] ALTS creds ignored. Not running on GCP and untrusted ALTS is not enabled.\n"
     ]
    },
    {
     "name": "stdout",
     "output_type": "stream",
     "text": [
      "<class 'langchain_core.messages.ai.AIMessage'>\n",
      "所有答案\n",
      "回答內容是\n",
      "\n",
      "金風微起，輕拂人間，\n",
      "楓葉漸染，層林盡丹。\n",
      "蟬鳴漸歇，夏語悄藏，\n",
      "雁字回時，天際茫茫。\n",
      "\n",
      "稻穗低垂，沃野金黃，\n",
      "果實纍纍，菊香盈巷。\n",
      "清露凝珠，夜色微涼，\n",
      "閒步小徑，詩意綿長。\n",
      "\n",
      "歲月如歌，唱到秋深，\n",
      "收穫喜悅，也藏幾分。\n",
      "看雲捲舒，聽風輕吟，\n",
      "靜賞流光，感悟本真。\n"
     ]
    }
   ],
   "source": [
    "from dotenv import load_dotenv\n",
    "from langchain_google_genai import ChatGoogleGenerativeAI\n",
    "\n",
    "# Load environment variables from .env\n",
    "load_dotenv()\n",
    "\n",
    "# Create a ChatGoogleGenerativeAI model\n",
    "model = ChatGoogleGenerativeAI(model=\"gemini-2.5-flash\",temperature=1)\n",
    "print(type(model))\n",
    "\n",
    "#Invoke the model with a message\n",
    "result = model.invoke(\"請用中文寫一首關於秋天的詩\")\n",
    "print(type(result))\n",
    "print(\"所有答案\")\n",
    "#json_data = result.to_json()\n",
    "#print(json_data[\"kwargs\"][\"content\"])\n",
    "print(\"回答內容是\\n\")\n",
    "print(result.content)"
   ]
  },
  {
   "cell_type": "code",
   "execution_count": null,
   "id": "dd5e9cdd",
   "metadata": {},
   "outputs": [
    {
     "name": "stderr",
     "output_type": "stream",
     "text": [
      "E0000 00:00:1758351958.548433  229716 alts_credentials.cc:93] ALTS creds ignored. Not running on GCP and untrusted ALTS is not enabled.\n"
     ]
    },
    {
     "name": "stdout",
     "output_type": "stream",
     "text": [
      "<class 'langchain_core.messages.ai.AIMessage'>\n",
      "所有答案\n",
      "content='圓周率（π）是一個數學常數，定義為圓的周長與其直徑之比。\\n\\n它的值是一個無理數，意味著它的小數點後有無窮多位，且沒有重複的模式。\\n\\n常用的近似值是：\\n*   **3.14**\\n*   **3.14159**\\n\\n更精確地說，它大約是 **3.1415926535...**' additional_kwargs={} response_metadata={'prompt_feedback': {'block_reason': 0, 'safety_ratings': []}, 'finish_reason': 'STOP', 'model_name': 'gemini-2.5-flash', 'safety_ratings': []} id='run--c228d25e-b8b9-4816-abf1-c483956f669c-0' usage_metadata={'input_tokens': 6, 'output_tokens': 229, 'total_tokens': 235, 'input_token_details': {'cache_read': 0}, 'output_token_details': {'reasoning': 127}}\n",
      "回答內容是\n",
      "圓周率（π）是一個數學常數，定義為圓的周長與其直徑之比。\n",
      "\n",
      "它的值是一個無理數，意味著它的小數點後有無窮多位，且沒有重複的模式。\n",
      "\n",
      "常用的近似值是：\n",
      "*   **3.14**\n",
      "*   **3.14159**\n",
      "\n",
      "更精確地說，它大約是 **3.1415926535...**\n"
     ]
    }
   ],
   "source": [
    "from dotenv import load_dotenv\n",
    "from langchain_google_genai import ChatGoogleGenerativeAI\n",
    "\n",
    "# Load environment variables from .env\n",
    "load_dotenv() #這個是載入.env 模擬電腦環境變數\n",
    "\n",
    "# Create a ChatGoogleGenerativeAI model\n",
    "model = ChatGoogleGenerativeAI(model=\"gemini-2.5-flash\")\n",
    "\n",
    "#Invoke the model with a message\n",
    "result = model.invoke(\"圓周率是多少?\")\n",
    "print(type(result))\n",
    "print(\"所有答案\")\n",
    "print(result)\n",
    "print(\"回答內容是\")\n",
    "print(result.content)"
   ]
  }
 ],
 "metadata": {
  "kernelspec": {
   "display_name": ".venv",
   "language": "python",
   "name": "python3"
  },
  "language_info": {
   "codemirror_mode": {
    "name": "ipython",
    "version": 3
   },
   "file_extension": ".py",
   "mimetype": "text/x-python",
   "name": "python",
   "nbconvert_exporter": "python",
   "pygments_lexer": "ipython3",
   "version": "3.11.13"
  }
 },
 "nbformat": 4,
 "nbformat_minor": 5
}
