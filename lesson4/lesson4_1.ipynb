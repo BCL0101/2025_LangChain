{
 "cells": [
  {
   "cell_type": "markdown",
   "id": "d7ed81f0",
   "metadata": {},
   "source": [
    "### 使用ollama"
   ]
  },
  {
   "cell_type": "code",
   "execution_count": 1,
   "id": "25390363",
   "metadata": {},
   "outputs": [
    {
     "name": "stdout",
     "output_type": "stream",
     "text": [
      "<class 'langchain_core.messages.ai.AIMessage'>\n",
      "所有答案\n",
      "content='81 除以 9 等于 9。\\n\\n81 / 9 = 9\\n' additional_kwargs={} response_metadata={'model': 'gemma3:1b', 'created_at': '2025-09-20T06:26:12.783072Z', 'done': True, 'done_reason': 'stop', 'total_duration': 39309778917, 'load_duration': 37132562042, 'prompt_eval_count': 18, 'prompt_eval_duration': 222233334, 'eval_count': 22, 'eval_duration': 1952646375, 'model_name': 'gemma3:1b'} id='run--718fc17e-4928-4fca-b678-698f4e724265-0' usage_metadata={'input_tokens': 18, 'output_tokens': 22, 'total_tokens': 40}\n",
      "回答內容是\n",
      "81 除以 9 等于 9。\n",
      "\n",
      "81 / 9 = 9\n",
      "\n"
     ]
    }
   ],
   "source": [
    "from langchain_ollama import ChatOllama\n",
    "\n",
    "\n",
    "# Create a ChatOllama model\n",
    "# 透過網址的方式連結ollama (指定 base_url 指向 Ollama server)\n",
    "# 預設 Ollama server 在本機的 11434 埠，若在其他主機或埠請改成相對應的網址\n",
    "\n",
    "#model = ChatOllama(model=\"gemma3:1b\", base_url=\"http://host.docker.internal:11434\")\n",
    "model = ChatOllama(model=\"gemma3:1b\",base_url=\"http://localhost:11434\")\n",
    "\n",
    "\n",
    "# Invoke the model with a message\n",
    "result = model.invoke(\"81除以9的答案是?\")\n",
    "print(type(result))\n",
    "print(\"所有答案\")\n",
    "print(result)\n",
    "print(\"回答內容是\")\n",
    "print(result.content)"
   ]
  }
 ],
 "metadata": {
  "kernelspec": {
   "display_name": ".venv",
   "language": "python",
   "name": "python3"
  },
  "language_info": {
   "codemirror_mode": {
    "name": "ipython",
    "version": 3
   },
   "file_extension": ".py",
   "mimetype": "text/x-python",
   "name": "python",
   "nbconvert_exporter": "python",
   "pygments_lexer": "ipython3",
   "version": "3.11.13"
  }
 },
 "nbformat": 4,
 "nbformat_minor": 5
}
