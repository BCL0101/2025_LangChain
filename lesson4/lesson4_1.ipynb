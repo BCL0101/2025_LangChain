{
 "cells": [
  {
   "cell_type": "markdown",
   "id": "b18c987b",
   "metadata": {},
   "source": [
    "### 使用ollama"
   ]
  },
  {
   "cell_type": "code",
   "execution_count": null,
   "id": "f5f6bf40",
   "metadata": {},
   "outputs": [
    {
     "name": "stdout",
     "output_type": "stream",
     "text": [
      "<class 'langchain_core.messages.ai.AIMessage'>\n",
      "所有答案\n",
      "content='81除以9的答案是9。' additional_kwargs={} response_metadata={'model': 'llama3.2:latest', 'created_at': '2025-09-20T06:47:18.734604Z', 'done': True, 'done_reason': 'stop', 'total_duration': 1274042750, 'load_duration': 86246333, 'prompt_eval_count': 33, 'prompt_eval_duration': 303456333, 'eval_count': 10, 'eval_duration': 883704125, 'model_name': 'llama3.2:latest'} id='run--d5d45f5a-500b-4348-b230-759b41b2113c-0' usage_metadata={'input_tokens': 33, 'output_tokens': 10, 'total_tokens': 43}\n",
      "回答內容是\n",
      "81除以9的答案是9。\n"
     ]
    }
   ],
   "source": [
    "from langchain_ollama import ChatOllama\n",
    "\n",
    "\n",
    "# Create a ChatOllama model\n",
    "# 透過網址的方式連結ollama (指定 base_url 指向 Ollama server)\n",
    "# 預設 Ollama server 在本機的 11434 埠，若在其他主機或埠請改成相對應的網址\n",
    "\n",
    "#model = ChatOllama(model=\"llama3.2:latest\", base_url=\"http://host.docker.internal:11434\")\n",
    "#model = ChatOllama(model=\"gemma3:1b\",base_url=\"http://localhost:11434\")\n",
    "model = ChatOllama(model=\"llama3.2:latest\",base_url=\"http://localhost:11434\")\n",
    "\n",
    "\n",
    "# Invoke the model with a message\n",
    "result = model.invoke(\"81除以9的答案是?\")\n",
    "print(type(result))\n",
    "print(\"所有答案\")\n",
    "print(result)\n",
    "print(\"回答內容是\")\n",
    "print(result.content)"
   ]
  }
 ],
 "metadata": {
  "kernelspec": {
   "display_name": ".venv",
   "language": "python",
   "name": "python3"
  },
  "language_info": {
   "codemirror_mode": {
    "name": "ipython",
    "version": 3
   },
   "file_extension": ".py",
   "mimetype": "text/x-python",
   "name": "python",
   "nbconvert_exporter": "python",
   "pygments_lexer": "ipython3",
   "version": "3.11.13"
  }
 },
 "nbformat": 4,
 "nbformat_minor": 5
}
