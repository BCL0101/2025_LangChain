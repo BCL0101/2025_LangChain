{
 "cells": [
  {
   "cell_type": "code",
   "execution_count": 1,
   "id": "7c0e37ca",
   "metadata": {},
   "outputs": [
    {
     "name": "stdout",
     "output_type": "stream",
     "text": [
      "Python 是一種簡單易學的程式語言，最初由加拿大 computer scientist Guido van Rossum 創造。它是目前最受歡迎的程式語言之一，尤其是在數據科學、機器學習和 Web 开發中。\n",
      "\n",
      "** Python 的特點**\n",
      "\n",
      "1. **簡單易學**: Python 的语法很簡潔，容易理解，因此適合新手 programmer。\n",
      "2. **快速開發**:_python 的 code 可以快速開發， thanks 到它的動態型別和解析器。\n",
      "3. **多用途**: Python 可以用於 Web 开发、機器學習、數據科學、游戏开发等多種領域。\n",
      "4. **大規模社群**: Python 的社群很大，提供了許多的 library 和 framework。\n",
      "\n",
      "**Python 的應用**\n",
      "\n",
      "1. **Web 开發**: Django 和 Flask 等 framework 可以用於 Web 开发。\n",
      "2. **機器學習**: TensorFlow 和 PyTorch 等 library 可以用於 machine learning。\n",
      "3. **數據科學**: Pandas、NumPy 等 library 可以用於數據分析和處理。\n",
      "4. **游戏开发**: Pygame 和 Panda3D 等 framework 可以用於 game development。\n",
      "\n",
      "**Python 的優點**\n",
      "\n",
      "1. **快速開發**: Python 的 code 可以快速開發， thanks 到它的動態型別和解析器。\n",
      "2. **多用途**: Python 可以用於 Web 开发、機器學習、數據科學等多種領域。\n",
      "3. **大規模社群**: Python 的社群很大，提供了許多的 library 和 framework。\n",
      "\n",
      "**Python 的缺點**\n",
      "\n",
      "1. **速度**: Python 的速度相對較慢，這是因為它的解析器和動態型別導致的計算複雜性。\n",
      "2. ** memoryUsage**: Python 的 memory Usage 相對较高，這是因為它的 dynamic typing 和 object-oriented design。\n",
      "\n",
      "總之，Python 是一種簡單易學的程式語言，適合用於 Web 开發、機器學習、數據科學等多種領域。\n"
     ]
    }
   ],
   "source": [
    "from langchain.prompts import ChatPromptTemplate\n",
    "from langchain_ollama.llms import OllamaLLM\n",
    "from langchain.schema.output_parser import StrOutputParser\n",
    "\n",
    "prompt = ChatPromptTemplate.from_template(\"請介紹{topic}\")\n",
    "model = OllamaLLM(model=\"llama3.2:latest\")\n",
    "output_parser = StrOutputParser()\n",
    "\n",
    "# 使用LCEL語法建立鏈\n",
    "\n",
    "chain = (prompt \n",
    "           | model \n",
    "           | output_parser)\n",
    "\n",
    "print(chain.invoke({\"topic\":\"python\"}))"
   ]
  },
  {
   "cell_type": "code",
   "execution_count": 2,
   "id": "e93f3d6d",
   "metadata": {},
   "outputs": [],
   "source": [
    "def upgrade_level1(name:str) -> str:\n",
    "    result = f\"\"\"{name}\n",
    "等級1\"\"\"\n",
    "    return result\n",
    "\n",
    "def upgrade_level2(input_str) -> str:\n",
    "    result = f\"\"\"{input_str}\n",
    "等級2\"\"\"\n",
    "    return result\n",
    "\n",
    "def upgrade_level3(input_str) -> str:\n",
    "    result = f\"\"\"{input_str}\n",
    "等級3\"\"\"\n",
    "    return result"
   ]
  },
  {
   "cell_type": "code",
   "execution_count": 3,
   "id": "51a37f7a",
   "metadata": {},
   "outputs": [
    {
     "name": "stdout",
     "output_type": "stream",
     "text": [
      "Bernard\n",
      "等級1\n",
      "等級2\n",
      "等級3\n"
     ]
    }
   ],
   "source": [
    "total = upgrade_level3(upgrade_level2(upgrade_level1(name=\"Bernard\")))\n",
    "print(total)"
   ]
  }
 ],
 "metadata": {
  "kernelspec": {
   "display_name": "2025_LangChain",
   "language": "python",
   "name": "python3"
  },
  "language_info": {
   "codemirror_mode": {
    "name": "ipython",
    "version": 3
   },
   "file_extension": ".py",
   "mimetype": "text/x-python",
   "name": "python",
   "nbconvert_exporter": "python",
   "pygments_lexer": "ipython3",
   "version": "3.11.13"
  }
 },
 "nbformat": 4,
 "nbformat_minor": 5
}
