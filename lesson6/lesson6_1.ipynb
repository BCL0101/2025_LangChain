{
 "cells": [
  {
   "cell_type": "code",
   "execution_count": 2,
   "id": "7c0e37ca",
   "metadata": {},
   "outputs": [
    {
     "name": "stdout",
     "output_type": "stream",
     "text": [
      "人工智慧（Artificial Intelligence，AI）是指使用 computers 和 algorithms 来模仿和解決人类思維的能力。它是一個廣泛被研究和應用於各種領域的技術，從智能 Assistant 到自駕車、醫學診斷到財務 prediction 等。\n",
      "\n",
      "人工智慧的分類：\n",
      "\n",
      "1. **弱 AI**（Narrow AI）：专注於特定的任務，如語言ประม理、 computer vision 等。\n",
      "2. **強 AI**（General AI）：能夠解決任何問題，具有同等水平的智慧和推理能力。目前仍在研究中。\n",
      "\n",
      "人工智慧的應用：\n",
      "\n",
      "1. **語言處理**: 例如 Siri、Google Assistant 等 virtual assistant。\n",
      "2. ** computer vision**: 例如 facial recognition、object detection 等。\n",
      "3. **醫學診斷**: 使用 AI 實驗室系統來分析 medical images 和診斷疾病。\n",
      "4. **自駕車**: 使用 AI 訓練資料來制定行駛路線和控制車輛。\n",
      "5. **財務預測**: 使用 AI 分析數據來預測股市、房地產等市場趨勢。\n",
      "\n",
      "人工智慧的優點：\n",
      "\n",
      "1. **高效率**: 例如可以在短時間內分析大量數據。\n",
      "2. **精度**: 例如能夠進行精確的語言處理和 computer vision.\n",
      "3. **無人式運作**: 例如自駕車和 automated factory production.\n",
      "\n",
      "但是，人工智慧還面臨著一些挑戰：\n",
      "\n",
      "1. **倫理問題**: 例如 AI 的使用對人類福祉有所影響。\n",
      "2. **安全問題**: 例如 AI 系統可能會導致安全風險。\n",
      "3. **知識數量**: 例如需要大量的資料來訓練 AI 系統。\n",
      "\n",
      "總之，人工智慧是一種能夠模仿和解決人类思維能力的技術。它在各種領域都具有重大潛力，但是也面臨著一些挑戰和問題。\n"
     ]
    }
   ],
   "source": [
    "from langchain.prompts import ChatPromptTemplate\n",
    "from langchain_ollama.llms import OllamaLLM\n",
    "from langchain.schema.output_parser import StrOutputParser\n",
    "\n",
    "prompt = ChatPromptTemplate.from_template(\"請介紹{topic}\")\n",
    "model = OllamaLLM(model='llama3.2:latest')\n",
    "output_parser = StrOutputParser()\n",
    "\n",
    "# 使用LCEL語法建立鏈\n",
    "\n",
    "chain = (prompt \n",
    "            | model \n",
    "            | output_parser)\n",
    "\n",
    "print(chain.invoke({\"topic\":\"人工智慧\"}))"
   ]
  }
 ],
 "metadata": {
  "kernelspec": {
   "display_name": "2025_LangChain",
   "language": "python",
   "name": "python3"
  },
  "language_info": {
   "codemirror_mode": {
    "name": "ipython",
    "version": 3
   },
   "file_extension": ".py",
   "mimetype": "text/x-python",
   "name": "python",
   "nbconvert_exporter": "python",
   "pygments_lexer": "ipython3",
   "version": "3.11.13"
  }
 },
 "nbformat": 4,
 "nbformat_minor": 5
}
