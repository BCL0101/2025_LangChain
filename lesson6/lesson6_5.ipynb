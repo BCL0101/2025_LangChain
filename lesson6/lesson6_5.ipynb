{
 "cells": [
  {
   "cell_type": "code",
   "execution_count": 1,
   "id": "4cfae8a3",
   "metadata": {},
   "outputs": [],
   "source": [
    "from langchain.prompts import ChatPromptTemplate\n",
    "from langchain_ollama import OllamaLLM\n",
    "from langchain.schema.output_parser import StrOutputParser\n",
    "from langchain.schema.runnable import RunnableLambda\n",
    "\n",
    "#model = OllamaLLM(model=\"llama3.2:latest\")\n",
    "model = OllamaLLM(model=\"gemma3:4b\")"
   ]
  },
  {
   "cell_type": "code",
   "execution_count": 2,
   "id": "fa18efd0",
   "metadata": {},
   "outputs": [],
   "source": [
    "prompt_template = ChatPromptTemplate.from_messages([\n",
    "    (\"system\",\"你是一個專業的客服代表，負責回覆客戶郵件。請用友善和專業的語調回覆。請不要回覆(公司的資訊和結尾詞),我會自已手動增加\"),\n",
    "    (\"human\",\"請回覆這封客戶郵件：\\n\\n{email_content}\")\n",
    "])"
   ]
  },
  {
   "cell_type": "code",
   "execution_count": 3,
   "id": "fcedf7f9",
   "metadata": {},
   "outputs": [],
   "source": [
    "def format_email_reply(ai_answer:str) -> str:\n",
    "    import datetime\n",
    "    date_str = datetime.datetime.now().strftime(\"%Y-%m-%d %H:%M\")\n",
    "    formatted_reply = f\"\"\"{ai_answer}\n",
    "\n",
    "感謝您的來信，如有其他問題請隨時聯繫我們。\n",
    "\n",
    "此致\n",
    "致理客服團隊\n",
    "\n",
    "回覆時間:{date_str}\n",
    "\"\"\"\n",
    "\n",
    "    print(f\"ai回覆的內容:{formatted_reply}\")\n",
    "\n",
    "    return {\"formatted_reply\":formatted_reply}\n",
    "\n",
    "format_email = RunnableLambda(format_email_reply)"
   ]
  },
  {
   "cell_type": "code",
   "execution_count": 4,
   "id": "9ee78cb8",
   "metadata": {},
   "outputs": [],
   "source": [
    "improve_prompt = ChatPromptTemplate.from_messages(\n",
    "    [\n",
    "        (\"system\",\"你是郵件品質專家。請評估這封郵件的專業度、友善度和完整度（1-10分），並提供具體的改進建議。\"),\n",
    "        (\"human\",\"估並改進這封郵件:\\n\\n{formatted_reply}\")\n",
    "    ]\n",
    ")"
   ]
  },
  {
   "cell_type": "code",
   "execution_count": 5,
   "id": "332188e2",
   "metadata": {},
   "outputs": [],
   "source": [
    "chain = (prompt_template \n",
    "        | model\n",
    "        | StrOutputParser()\n",
    "        | format_email\n",
    "        | improve_prompt\n",
    "        | model\n",
    "        | StrOutputParser()\n",
    ")"
   ]
  },
  {
   "cell_type": "code",
   "execution_count": 6,
   "id": "73abe488",
   "metadata": {},
   "outputs": [],
   "source": [
    "customer_email = \"\"\"您好:\n",
    "\n",
    "我最近購買了貴公司的產品，但是發現包裝有損壞，而且產品功能與說明書不符。\n",
    "請問可以退貨或換貨嗎？我已經購買一週了。\n",
    "\n",
    "期待您的回覆。\n",
    "\n",
    "\n",
    "王小明\"\"\""
   ]
  },
  {
   "cell_type": "code",
   "execution_count": 7,
   "id": "7e34bbd3",
   "metadata": {},
   "outputs": [
    {
     "name": "stdout",
     "output_type": "stream",
     "text": [
      "ai回覆的內容:王小明您好，\n",
      "\n",
      "非常抱歉讓您有不愉快的購物體驗。我們深感遺憾聽到您收到的產品狀況與說明書不符，以及包裝的損壞。\n",
      "\n",
      "請您放心，我們會盡全力協助您解決問題。請您提供更多關於產品狀況的詳細資訊，例如：\n",
      "\n",
      "*   產品型號\n",
      "*   損壞的具體情況（請附上照片或影片）\n",
      "*   功能不符的具體描述\n",
      "\n",
      "我們將會審視您的情況，並在收到您的資訊後盡快與您聯繫，討論最佳的退貨或換貨方案。\n",
      "\n",
      "再次向您致以歉意，感謝您的理解與耐心。\n",
      "\n",
      "感謝您的來信，如有其他問題請隨時聯繫我們。\n",
      "\n",
      "此致\n",
      "致理客服團隊\n",
      "\n",
      "回覆時間:2025-10-18 15:27\n",
      "\n",
      "好的，我來為這封郵件進行專業度、友善度和完整度的評估，並提供具體改進建議：\n",
      "\n",
      "**評估：**\n",
      "\n",
      "*   **專業度： 8/10** - 語氣和措辭基本專業，但可以更精準地表達對問題的重視。\n",
      "*   **友善度： 9/10** - 開頭道歉、表達關心，並提供協助，整體語氣友善，能讓客戶感到被重視。\n",
      "*   **完整度： 6/10** - 雖然詢問了基本資訊，但可以更全面地讓客戶了解解決流程和時間表，增加客戶信心。\n",
      "\n",
      "**具體改進建議：**\n",
      "\n",
      "1.  **更明確表達關心，開頭更正式：**\n",
      "    *   改寫開頭： “王小明先生/女士，您好。非常抱歉讓您有不愉快的購物體驗，我們深感遺憾，並真誠地為您帶來的不便致歉。” （使用更正式的稱謂，並明確表達歉意）\n",
      "\n",
      "2.  **強化問題解決的流程：**\n",
      "    *   可以更清楚地說明接下來的處理流程，例如： “收到您的資訊後，我們會 [X個工作天] 內進行審核，並將 [負責人姓名/職稱] 與您聯繫，討論最佳的退貨或換貨方案。同時，我們也會 [說明處理流程，例如：為您安排寄回貨運/提供退貨地址/安排技術支援]。 ” （提供更具體的時間表和處理流程，建立客戶信心）\n",
      "    *   建議加入： “為了加快處理速度，請您提供以下資訊：…”\n",
      "\n",
      "3.  **更具體地提出資訊需求：**\n",
      "    *   將“功能不符的具體描述”更明確地問清楚，例如：“請詳細描述您遇到的功能不符情況，並提供具體的測試步驟/結果。” (建議附上客戶可以參考的常見問題解答連結，幫助客戶更準確描述問題)\n",
      "    *   可以考慮提供一個表格讓客戶更容易填寫資訊。\n",
      "\n",
      "4.  **提升結尾的專業度：**\n",
      "    *   改寫結尾：“再次向您致以最誠摯的歉意，感謝您的理解與耐心配合。如有其他任何問題，請隨時通過 [電話號碼] 或 [電子郵件地址] 與我們聯繫。 祝您一切順心！” （更正式的結尾語，並再次提供聯絡方式）\n",
      "\n",
      "**修改後的郵件範例：**\n",
      "\n",
      "王小明先生/女士，您好。非常抱歉讓您有不愉快的購物體驗，我們深感遺憾，並真誠地為您帶來的不便致歉。\n",
      "\n",
      "我們非常重視您提出的產品狀況、說明書不符以及包裝損壞問題。為了協助您盡快解決問題，請您提供以下詳細資訊：\n",
      "\n",
      "*   產品型號\n",
      "*   損壞的具體情況（請附上照片或影片）\n",
      "*   功能不符的具體描述（請詳細描述您遇到的功能不符情況，並提供具體的測試步驟/結果。建議您參考我們的常見問題解答：[連結]）\n",
      "\n",
      "收到您的資訊後，我們會 [3個工作天] 內進行審核，並安排 [負責人姓名/職稱] 與您聯繫，討論最佳的退貨或換貨方案。同時，我們也會為您安排寄回貨運。\n",
      "\n",
      "再次向您致以最誠摯的歉意，感謝您的理解與耐心配合。如有其他任何問題，請隨時通過 [電話號碼] 或 [電子郵件地址] 與我們聯繫。 祝您一切順心！\n",
      "\n",
      "此致\n",
      "致理客服團隊\n",
      "\n",
      "希望這些建議對您有幫助！ 祝您工作順利！\n"
     ]
    }
   ],
   "source": [
    "result = chain.invoke({\n",
    "    \"email_content\":customer_email\n",
    "})\n",
    "\n",
    "print(result)"
   ]
  }
 ],
 "metadata": {
  "kernelspec": {
   "display_name": "2025_LangChain",
   "language": "python",
   "name": "python3"
  },
  "language_info": {
   "codemirror_mode": {
    "name": "ipython",
    "version": 3
   },
   "file_extension": ".py",
   "mimetype": "text/x-python",
   "name": "python",
   "nbconvert_exporter": "python",
   "pygments_lexer": "ipython3",
   "version": "3.11.13"
  }
 },
 "nbformat": 4,
 "nbformat_minor": 5
}
