{
 "cells": [
  {
   "cell_type": "code",
   "execution_count": 2,
   "id": "4cfae8a3",
   "metadata": {},
   "outputs": [],
   "source": [
    "from langchain.prompts import ChatPromptTemplate\n",
    "from langchain_ollama import OllamaLLM\n",
    "from langchain.schema.output_parser import StrOutputParser\n",
    "\n",
    "model = OllamaLLM(model=\"llama3.2:latest\")"
   ]
  },
  {
   "cell_type": "code",
   "execution_count": 3,
   "id": "fa18efd0",
   "metadata": {},
   "outputs": [],
   "source": [
    "prompt_template = ChatPromptTemplate.from_messages([\n",
    "    (\"system\",\"你是一個專業的客服代表，負責回覆客戶郵件。請用友善、專業的語調回覆。\"),\n",
    "    (\"human\",\"請回覆這封客戶郵件：\\n\\n{email_content}\")\n",
    "])"
   ]
  },
  {
   "cell_type": "code",
   "execution_count": 4,
   "id": "332188e2",
   "metadata": {},
   "outputs": [],
   "source": [
    "chain = (prompt_template \n",
    "        | model\n",
    "        | StrOutputParser()\n",
    ")"
   ]
  },
  {
   "cell_type": "code",
   "execution_count": 5,
   "id": "73abe488",
   "metadata": {},
   "outputs": [],
   "source": [
    "customer_email = \"\"\"您好:\n",
    "\n",
    "我最近購買了貴公司的產品，但是發現包裝有損壞，而且產品功能與說明書不符。\n",
    "請問可以退貨或換貨嗎？我已經購買一週了。\n",
    "\n",
    "期待您的回覆。\n",
    "\n",
    "\n",
    "王小明\"\"\""
   ]
  },
  {
   "cell_type": "code",
   "execution_count": 6,
   "id": "7e34bbd3",
   "metadata": {},
   "outputs": [
    {
     "name": "stdout",
     "output_type": "stream",
     "text": [
      "Dear 王小明，\n",
      "\n",
      "thank you for your email and we apologize for the inconvenience caused by the damaged package and product function mismatch.\n",
      "\n",
      "We understand that you purchased our product a week ago, and we'd like to assist you with this issue as soon as possible. \n",
      "\n",
      "Please know that we have a 14-day return policy, and since it's been over a week since your purchase, we can still process a refund for you.\n",
      "\n",
      "To proceed with the refund, please kindly reply to this email with the following details:\n",
      "\n",
      "1. Your order number\n",
      "2. A clear photo of the damaged package\n",
      "3. A description of the product function mismatch\n",
      "\n",
      "Once we receive these details, we will promptly process your refund and issue a store credit or provide a full refund, whichever you prefer.\n",
      "\n",
      "If you would like to exchange the product for a new one with proper packaging and functionality, please let us know, and we'll be happy to assist you further.\n",
      "\n",
      "We appreciate your patience and cooperation in this matter. If you have any other questions or concerns, feel free to ask, and we'll do our best to help.\n",
      "\n",
      "Thank you for choosing our brand, and we look forward to making things right.\n",
      "\n",
      "Best regards,\n",
      "[Your Name]\n",
      "Customer Service Representative\n"
     ]
    }
   ],
   "source": [
    "result = chain.invoke({\n",
    "    \"email_content\":customer_email\n",
    "})\n",
    "\n",
    "print(result)"
   ]
  }
 ],
 "metadata": {
  "kernelspec": {
   "display_name": "2025_LangChain",
   "language": "python",
   "name": "python3"
  },
  "language_info": {
   "codemirror_mode": {
    "name": "ipython",
    "version": 3
   },
   "file_extension": ".py",
   "mimetype": "text/x-python",
   "name": "python",
   "nbconvert_exporter": "python",
   "pygments_lexer": "ipython3",
   "version": "3.11.13"
  }
 },
 "nbformat": 4,
 "nbformat_minor": 5
}
