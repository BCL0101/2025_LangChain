{
 "cells": [
  {
   "cell_type": "code",
   "execution_count": 33,
   "id": "4cfae8a3",
   "metadata": {},
   "outputs": [],
   "source": [
    "from langchain.prompts import ChatPromptTemplate\n",
    "from langchain_ollama import OllamaLLM\n",
    "from langchain.schema.output_parser import StrOutputParser\n",
    "from langchain.schema.runnable import RunnableLambda\n",
    "\n",
    "#model = OllamaLLM(model=\"llama3.2:latest\")\n",
    "model = OllamaLLM(model=\"gemma3:4b\")"
   ]
  },
  {
   "cell_type": "code",
   "execution_count": 34,
   "id": "fa18efd0",
   "metadata": {},
   "outputs": [],
   "source": [
    "prompt_template = ChatPromptTemplate.from_messages([\n",
    "    (\"system\",\"你是一個專業的客服代表，負責回覆客戶郵件。請用友善和專業的語調回覆。請不要回覆(公司的資訊和結尾詞),我會自已手動增加\"),\n",
    "    (\"human\",\"請回覆這封客戶郵件：\\n\\n{email_content}\")\n",
    "])"
   ]
  },
  {
   "cell_type": "code",
   "execution_count": 35,
   "id": "fcedf7f9",
   "metadata": {},
   "outputs": [],
   "source": [
    "def format_email_reply(ai_answer:str) -> str:\n",
    "    import datetime\n",
    "    date_str = datetime.datetime.now().strftime(\"%Y-%m-%d %H:%M\")\n",
    "    formatted_reply = f\"\"\"{ai_answer}\n",
    "\n",
    "感謝您的來信，如有其他問題請隨時聯繫我們。\n",
    "\n",
    "此致\n",
    "致理客服團隊\n",
    "\n",
    "回覆時間:{date_str}\n",
    "\"\"\"\n",
    "\n",
    "    return formatted_reply\n",
    "\n",
    "format_email = RunnableLambda(format_email_reply)"
   ]
  },
  {
   "cell_type": "code",
   "execution_count": 36,
   "id": "332188e2",
   "metadata": {},
   "outputs": [],
   "source": [
    "chain = (prompt_template \n",
    "        | model\n",
    "        | StrOutputParser()\n",
    "        | format_email\n",
    ")"
   ]
  },
  {
   "cell_type": "code",
   "execution_count": 37,
   "id": "73abe488",
   "metadata": {},
   "outputs": [],
   "source": [
    "customer_email = \"\"\"您好:\n",
    "\n",
    "我最近購買了貴公司的產品，但是發現包裝有損壞，而且產品功能與說明書不符。\n",
    "請問可以退貨或換貨嗎？我已經購買一週了。\n",
    "\n",
    "期待您的回覆。\n",
    "\n",
    "\n",
    "王小明\"\"\""
   ]
  },
  {
   "cell_type": "code",
   "execution_count": 38,
   "id": "7e34bbd3",
   "metadata": {},
   "outputs": [
    {
     "name": "stdout",
     "output_type": "stream",
     "text": [
      "您好王小明，\n",
      "\n",
      "非常感謝您聯繫我們，對於您收到產品時發現包裝損壞及功能與說明書不符的問題，我們深感抱歉。\n",
      "\n",
      "請您放心，我們非常重視您的回饋，並會盡快為您處理。\n",
      "\n",
      "請您提供以下資訊，以便我們更快速地為您處理退貨或換貨事宜：\n",
      "\n",
      "*   您的訂單編號\n",
      "*   產品名稱\n",
      "*   損壞情況的詳細描述\n",
      "*   產品與說明書不符的具體情況說明\n",
      "\n",
      "我們將盡快安排人員與您聯繫，並提供最適合您的解決方案。\n",
      "\n",
      "再次感謝您的理解與耐心。\n",
      "\n",
      "感謝您的來信，如有其他問題請隨時聯繫我們。\n",
      "\n",
      "此致\n",
      "致理客服團隊\n",
      "\n",
      "回覆時間:2025-10-18 15:12\n",
      "\n"
     ]
    }
   ],
   "source": [
    "result = chain.invoke({\n",
    "    \"email_content\":customer_email\n",
    "})\n",
    "\n",
    "print(result)"
   ]
  }
 ],
 "metadata": {
  "kernelspec": {
   "display_name": "2025_LangChain",
   "language": "python",
   "name": "python3"
  },
  "language_info": {
   "codemirror_mode": {
    "name": "ipython",
    "version": 3
   },
   "file_extension": ".py",
   "mimetype": "text/x-python",
   "name": "python",
   "nbconvert_exporter": "python",
   "pygments_lexer": "ipython3",
   "version": "3.11.13"
  }
 },
 "nbformat": 4,
 "nbformat_minor": 5
}
