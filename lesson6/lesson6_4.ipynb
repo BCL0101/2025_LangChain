{
 "cells": [
  {
   "cell_type": "code",
   "execution_count": 15,
   "id": "4cfae8a3",
   "metadata": {},
   "outputs": [],
   "source": [
    "from langchain.prompts import ChatPromptTemplate\n",
    "from langchain_ollama import OllamaLLM\n",
    "from langchain.schema.output_parser import StrOutputParser\n",
    "from langchain.schema.runnable import RunnableLambda\n",
    "\n",
    "model = OllamaLLM(model=\"llama3.2:latest\")\n",
    "#model = OllamaLLM(model=\"gemma3:4b\")"
   ]
  },
  {
   "cell_type": "code",
   "execution_count": 16,
   "id": "fa18efd0",
   "metadata": {},
   "outputs": [],
   "source": [
    "prompt_template = ChatPromptTemplate.from_messages([\n",
    "    (\"system\",\"你是一個專業的客服代表，負責回覆客戶郵件。請用友善和專業的語調回覆。請不要回覆(公司的資訊和結尾詞),我會自已手動增加\"),\n",
    "    (\"human\",\"請回覆這封客戶郵件：\\n\\n{email_content}\")\n",
    "])"
   ]
  },
  {
   "cell_type": "code",
   "execution_count": 17,
   "id": "fcedf7f9",
   "metadata": {},
   "outputs": [],
   "source": [
    "def format_email_reply(ai_answer:str) -> str:\n",
    "    import datetime\n",
    "    date_str = datetime.datetime.now().strftime(\"%Y-%m-%d %H:%M\")\n",
    "    formatted_reply = f\"\"\"{ai_answer}\n",
    "\n",
    "感謝您的來信，如有其他問題請隨時聯繫我們。\n",
    "\n",
    "此致\n",
    "致理客服團隊\n",
    "\n",
    "回覆時間:{date_str}\n",
    "\"\"\"\n",
    "\n",
    "    return formatted_reply\n",
    "\n",
    "format_email = RunnableLambda(format_email_reply)"
   ]
  },
  {
   "cell_type": "code",
   "execution_count": 18,
   "id": "332188e2",
   "metadata": {},
   "outputs": [],
   "source": [
    "chain = (prompt_template \n",
    "        | model\n",
    "        | StrOutputParser()\n",
    "        | format_email\n",
    ")"
   ]
  },
  {
   "cell_type": "code",
   "execution_count": 19,
   "id": "73abe488",
   "metadata": {},
   "outputs": [],
   "source": [
    "customer_email = \"\"\"您好:\n",
    "\n",
    "我最近購買了貴公司的產品，但是發現包裝有損壞，而且產品功能與說明書不符。\n",
    "請問可以退貨或換貨嗎？我已經購買一週了。\n",
    "\n",
    "期待您的回覆。\n",
    "\n",
    "\n",
    "王小明\"\"\""
   ]
  },
  {
   "cell_type": "code",
   "execution_count": 20,
   "id": "7e34bbd3",
   "metadata": {},
   "outputs": [
    {
     "name": "stdout",
     "output_type": "stream",
     "text": [
      "Dear 王小明，\n",
      "\n",
      "感謝您信任我們的品牌，sorry您遇到這個問題。包裝有損壞和產品功能與說明書不符，我們真心 apologies。\n",
      "\n",
      "為了讓您能夠享受滿意的購買體驗，請給我們一份您的購物證件號碼，然後我們將會根據公司的退換貨政策進行處理。由於您已經購買了一週了，因此需要您提供購物證件號碼以確認您的購物時間。\n",
      "\n",
      "如果您有任何進一步問題或需要更好的幫助，请不顧=my heart.\n",
      "\n",
      "感謝您的來信，如有其他問題請隨時聯繫我們。\n",
      "\n",
      "此致\n",
      "致理客服團隊\n",
      "\n",
      "回覆時間:2025-10-18 14:52\n",
      "\n"
     ]
    }
   ],
   "source": [
    "result = chain.invoke({\n",
    "    \"email_content\":customer_email\n",
    "})\n",
    "\n",
    "print(result)"
   ]
  }
 ],
 "metadata": {
  "kernelspec": {
   "display_name": "2025_LangChain",
   "language": "python",
   "name": "python3"
  },
  "language_info": {
   "codemirror_mode": {
    "name": "ipython",
    "version": 3
   },
   "file_extension": ".py",
   "mimetype": "text/x-python",
   "name": "python",
   "nbconvert_exporter": "python",
   "pygments_lexer": "ipython3",
   "version": "3.11.13"
  }
 },
 "nbformat": 4,
 "nbformat_minor": 5
}
