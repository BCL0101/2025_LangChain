{
 "cells": [
  {
   "cell_type": "code",
   "execution_count": 5,
   "id": "346ac249",
   "metadata": {},
   "outputs": [],
   "source": [
    "# 導入必要的套件\n",
    "from langchain.prompts import ChatPromptTemplate\n",
    "from langchain.schema.output_parser import StrOutputParser\n",
    "from langchain.schema.runnable import RunnableParallel, RunnableLambda\n",
    "from langchain_ollama import ChatOllama\n",
    "\n",
    "# 建立 Ollama 模型\n",
    "model = ChatOllama(\n",
    "    model=\"gemma3:4b\",\n",
    "    temperature=0.7\n",
    ")"
   ]
  },
  {
   "cell_type": "code",
   "execution_count": 6,
   "id": "0d8d0f56",
   "metadata": {},
   "outputs": [],
   "source": [
    "# 定義主要的提示模板 - 餐廳評論分析\n",
    "prompt_template = ChatPromptTemplate.from_messages(\n",
    "    [\n",
    "        (\"system\", \"你是一個專業的餐廳評論家，擅長分析餐廳的優缺點。\"),\n",
    "        (\"human\", \"請分析這家餐廳：{restaurant_info}\"),\n",
    "    ]\n",
    ")"
   ]
  },
  {
   "cell_type": "code",
   "execution_count": 7,
   "id": "18159aa9",
   "metadata": {},
   "outputs": [],
   "source": [
    "pros_template = ChatPromptTemplate.from_messages(\n",
    "        [\n",
    "            (\"system\", \"你是一個專業的餐廳評論家，專門分析餐廳的優點。\"),\n",
    "            (\"human\", \"根據餐廳資訊：{restaurant_info}，請列出這家餐廳的優點。\"),\n",
    "        ]\n",
    ")\n",
    "\n",
    "pros_branch_chain = (\n",
    "    pros_template\n",
    "    | model\n",
    "    | StrOutputParser()\n",
    ")"
   ]
  },
  {
   "cell_type": "code",
   "execution_count": 8,
   "id": "05d2afe1",
   "metadata": {},
   "outputs": [],
   "source": [
    "cons_template = ChatPromptTemplate.from_messages(\n",
    "        [\n",
    "            (\"system\", \"你是一個專業的餐廳評論家，專門分析餐廳的缺點。\"),\n",
    "            (\"human\", \"根據餐廳資訊：{restaurant_info}，請列出這家餐廳的缺點。\"),\n",
    "        ]\n",
    ")\n",
    "\n",
    "cons_branch_chain =(\n",
    "    cons_template\n",
    "    | model\n",
    "    | StrOutputParser() \n",
    "    \n",
    ")"
   ]
  },
  {
   "cell_type": "code",
   "execution_count": 9,
   "id": "b2699238",
   "metadata": {},
   "outputs": [],
   "source": [
    "def combine_pros_cons(pros, cons):\n",
    "    \"\"\"將優點和缺點合併成最終評論\"\"\"\n",
    "    return f\"\"\"\n",
    "🍽️ 餐廳評論分析報告\n",
    "{'='*50}\n",
    "\n",
    "✅ 優點分析：\n",
    "{pros}\n",
    "\n",
    "❌ 缺點分析：\n",
    "{cons}\n",
    "\n",
    "📊 總結：這是一個平衡的餐廳評論分析\n",
    "\"\"\""
   ]
  },
  {
   "cell_type": "code",
   "execution_count": 10,
   "id": "df29288b",
   "metadata": {},
   "outputs": [],
   "source": [
    "chain = (\n",
    "    prompt_template\n",
    "    | model\n",
    "    | StrOutputParser()\n",
    "    | RunnableLambda(lambda x:{\"restaurant_info\":x})\n",
    "    | RunnableParallel(\n",
    "        pros = pros_branch_chain,\n",
    "        cons = cons_branch_chain\n",
    "    )\n",
    "    | RunnableLambda(lambda x: combine_pros_cons(x['pros'],x['cons']))\n",
    ")"
   ]
  },
  {
   "cell_type": "code",
   "execution_count": 11,
   "id": "272b08cb",
   "metadata": {},
   "outputs": [
    {
     "name": "stdout",
     "output_type": "stream",
     "text": [
      "\n",
      "🍽️ 餐廳評論分析報告\n",
      "==================================================\n",
      "\n",
      "✅ 優點分析：\n",
      "好的，根據我分析，這家餐廳的優點如下：\n",
      "\n",
      "*   **優雅的環境：** 餐廳位於台北市中心，環境設計融入了義大利的古典元素，營造出舒適、浪漫的氛圍。\n",
      "*   **親切的服務：** 服務人員的親切是提升顧客滿意的關鍵。\n",
      "*   **食物品質不錯：** 廚師在食材選擇和烹飪技巧方面有一定水準。\n",
      "\n",
      "希望這些信息對您有幫助！\n",
      "\n",
      "\n",
      "❌ 缺點分析：\n",
      "根據我分析的結果，這家餐廳的缺點有以下幾個：\n",
      "\n",
      "1. **價格偏高**：這是最顯著的缺點，超出許多消費者的預算。\n",
      "2. **等待時間較長**：尤其在高峰期，顧客會因為等待時間過長而感到不滿。\n",
      "3. **份量偏少**：對於價格高的餐廳來說，份量不足，讓顧客覺得物價不合理。\n",
      "4. **缺乏對不同消費者的考慮**：目前餐廳主要針對約會或特殊場合的顧客，如果能考慮到單人用餐、家庭用餐等不同需求，將會更具吸引力。\n",
      "\n",
      "總而言之，這家餐廳的缺點主要集中在**價值感**方面，需要進一步提升，才能提升顧客的滿意度。\n",
      "\n",
      "\n",
      "📊 總結：這是一個平衡的餐廳評論分析\n",
      "\n"
     ]
    }
   ],
   "source": [
    "restaurant_info = \"\"\"\n",
    "這是一家位於台北市中心的義大利餐廳，提供傳統義式料理。\n",
    "餐廳環境優雅，服務人員親切，但價格偏高，等待時間較長。\n",
    "食物品質不錯，但份量偏少。適合約會或特殊場合用餐。\n",
    "\"\"\"\n",
    "\n",
    "result = chain.invoke({\"restaurant_info\": restaurant_info})\n",
    "\n",
    "print(result)"
   ]
  }
 ],
 "metadata": {
  "kernelspec": {
   "display_name": "2025_LangChain",
   "language": "python",
   "name": "python3"
  },
  "language_info": {
   "codemirror_mode": {
    "name": "ipython",
    "version": 3
   },
   "file_extension": ".py",
   "mimetype": "text/x-python",
   "name": "python",
   "nbconvert_exporter": "python",
   "pygments_lexer": "ipython3",
   "version": "3.11.13"
  }
 },
 "nbformat": 4,
 "nbformat_minor": 5
}
