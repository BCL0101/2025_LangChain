{
 "cells": [
  {
   "cell_type": "code",
   "execution_count": null,
   "id": "346ac249",
   "metadata": {},
   "outputs": [],
   "source": [
    "# 導入必要的套件\n",
    "from langchain.prompts import ChatPromptTemplate\n",
    "from langchain.schema.output_parser import StrOutputParser\n",
    "from langchain.schema.runnable import RunnableParallel, RunnableLambda\n",
    "from langchain_ollama import ChatOllama\n",
    "\n",
    "# 建立 Ollama 模型\n",
    "model = ChatOllama(\n",
    "    model=\"gemma3:4b\",\n",
    "    temperature=0.7\n",
    ")"
   ]
  },
  {
   "cell_type": "code",
   "execution_count": null,
   "id": "0d8d0f56",
   "metadata": {},
   "outputs": [],
   "source": [
    "# 定義主要的提示模板 - 餐廳評論分析\n",
    "prompt_template = ChatPromptTemplate.from_messages(\n",
    "    [\n",
    "        (\"system\", \"你是一個專業的餐廳評論家，擅長分析餐廳的優缺點。\"),\n",
    "        (\"human\", \"請分析這家餐廳：{restaurant_info}\"),\n",
    "    ]\n",
    ")"
   ]
  },
  {
   "cell_type": "code",
   "execution_count": null,
   "id": "18159aa9",
   "metadata": {},
   "outputs": [],
   "source": [
    "pros_template = ChatPromptTemplate.from_messages(\n",
    "        [\n",
    "            (\"system\", \"你是一個專業的餐廳評論家，專門分析餐廳的優點。\"),\n",
    "            (\"human\", \"根據餐廳資訊：{restaurant_info}，請列出這家餐廳的優點。\"),\n",
    "        ]\n",
    ")\n",
    "\n",
    "pros_branch_chain = (\n",
    "    pros_template\n",
    "    | model\n",
    "    | StrOutputParser()\n",
    ")"
   ]
  },
  {
   "cell_type": "code",
   "execution_count": null,
   "id": "05d2afe1",
   "metadata": {},
   "outputs": [],
   "source": [
    "cons_template = ChatPromptTemplate.from_messages(\n",
    "        [\n",
    "            (\"system\", \"你是一個專業的餐廳評論家，專門分析餐廳的缺點。\"),\n",
    "            (\"human\", \"根據餐廳資訊：{restaurant_info}，請列出這家餐廳的缺點。\"),\n",
    "        ]\n",
    ")\n",
    "\n",
    "cons_branch_chain =(\n",
    "    cons_template\n",
    "    | model\n",
    "    | StrOutputParser() \n",
    "    \n",
    ")"
   ]
  },
  {
   "cell_type": "code",
   "execution_count": null,
   "id": "b2699238",
   "metadata": {},
   "outputs": [],
   "source": [
    "def combine_pros_cons(pros, cons):\n",
    "    \"\"\"將優點和缺點合併成最終評論\"\"\"\n",
    "    return f\"\"\"\n",
    "🍽️ 餐廳評論分析報告\n",
    "{'='*50}\n",
    "\n",
    "✅ 優點分析：\n",
    "{pros}\n",
    "\n",
    "❌ 缺點分析：\n",
    "{cons}\n",
    "\n",
    "📊 總結：這是一個平衡的餐廳評論分析\n",
    "\"\"\""
   ]
  },
  {
   "cell_type": "code",
   "execution_count": null,
   "id": "df29288b",
   "metadata": {},
   "outputs": [],
   "source": [
    "chain = (\n",
    "    prompt_template\n",
    "    | model\n",
    "    | StrOutputParser()\n",
    "    | RunnableLambda(lambda x:{\"restaurant_info\":x})\n",
    "    | RunnableParallel(\n",
    "        pros = pros_branch_chain,\n",
    "        cons = cons_branch_chain\n",
    "    )\n",
    "    | RunnableLambda(lambda x: combine_pros_cons(x['pros'],x['cons']))\n",
    ")"
   ]
  },
  {
   "cell_type": "code",
   "execution_count": null,
   "id": "272b08cb",
   "metadata": {},
   "outputs": [],
   "source": [
    "restaurant_info = \"\"\"\n",
    "這是一家位於台北市中心的義大利餐廳，提供傳統義式料理。\n",
    "餐廳環境優雅，服務人員親切，但價格偏高，等待時間較長。\n",
    "食物品質不錯，但份量偏少。適合約會或特殊場合用餐。\n",
    "\"\"\"\n",
    "\n",
    "result = chain.invoke({\"restaurant_info\": restaurant_info})\n",
    "\n",
    "print(result)"
   ]
  }
 ],
 "metadata": {
  "kernelspec": {
   "display_name": "2025_LangChain",
   "language": "python",
   "name": "python3"
  },
  "language_info": {
   "codemirror_mode": {
    "name": "ipython",
    "version": 3
   },
   "file_extension": ".py",
   "mimetype": "text/x-python",
   "name": "python",
   "nbconvert_exporter": "python",
   "pygments_lexer": "ipython3",
   "version": "3.11.13"
  }
 },
 "nbformat": 4,
 "nbformat_minor": 5
}
